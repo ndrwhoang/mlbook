{
  "nbformat": 4,
  "nbformat_minor": 0,
  "metadata": {
    "colab": {
      "name": "chapter15exercises.ipynb",
      "provenance": [],
      "collapsed_sections": []
    },
    "kernelspec": {
      "name": "python3",
      "display_name": "Python 3"
    },
    "accelerator": "GPU"
  },
  "cells": [
    {
      "cell_type": "code",
      "metadata": {
        "id": "4JYqtVmpTxGb",
        "colab_type": "code",
        "outputId": "ac126b95-c3eb-4fee-b71c-525bba2145cf",
        "colab": {
          "base_uri": "https://localhost:8080/",
          "height": 54
        }
      },
      "source": [
        "%tensorflow_version 2.x\n",
        "import tensorflow as tf\n",
        "tf.__version__"
      ],
      "execution_count": 1,
      "outputs": [
        {
          "output_type": "stream",
          "text": [
            "TensorFlow 2.x selected.\n"
          ],
          "name": "stdout"
        },
        {
          "output_type": "execute_result",
          "data": {
            "text/plain": [
              "'2.1.0'"
            ]
          },
          "metadata": {
            "tags": []
          },
          "execution_count": 1
        }
      ]
    },
    {
      "cell_type": "code",
      "metadata": {
        "id": "BbuzOHzNU1RE",
        "colab_type": "code",
        "colab": {}
      },
      "source": [
        "import numpy as np\n",
        "from tensorflow import keras"
      ],
      "execution_count": 0,
      "outputs": []
    },
    {
      "cell_type": "code",
      "metadata": {
        "id": "AM-dTs4SVBiM",
        "colab_type": "code",
        "colab": {}
      },
      "source": [
        "# 2. 3 dimensions: batch size, number of time steps, values at each time step\n",
        "# outputs will have 3 dimensions: batch size, number of time steps, and last layer outputs"
      ],
      "execution_count": 0,
      "outputs": []
    },
    {
      "cell_type": "code",
      "metadata": {
        "id": "cKvTgLhXVsJH",
        "colab_type": "code",
        "colab": {}
      },
      "source": [
        "# 3. Deep sequence to sequence: all of them\n",
        "# deep sequence to vector: all of them except the last rnn layer"
      ],
      "execution_count": 0,
      "outputs": []
    },
    {
      "cell_type": "code",
      "metadata": {
        "id": "JTUqBy6MWGw4",
        "colab_type": "code",
        "colab": {}
      },
      "source": [
        "# 4. Any"
      ],
      "execution_count": 0,
      "outputs": []
    },
    {
      "cell_type": "code",
      "metadata": {
        "id": "5UP602LjZFz_",
        "colab_type": "code",
        "colab": {}
      },
      "source": [
        "# 5. The model forgetting information in long sequences\n",
        "# the gradients are more unstable since they get cycled over and over"
      ],
      "execution_count": 0,
      "outputs": []
    },
    {
      "cell_type": "code",
      "metadata": {
        "id": "J4SinGgfZjG0",
        "colab_type": "code",
        "colab": {}
      },
      "source": [
        "# 6. LSTM: a hidden state, previous output, and input data go into the cell\n",
        "# previous output and new input goes into all 4 gates/layers: forget gate, main layer, input control gate, output gate\n",
        "# hidden state goes through a forget (multiplied with output of forget gate) \n",
        "# and added with the input\n",
        "# input gate: multiplication of the output of a main layer and an input control gate\n",
        "# hidden state goes to next cell\n",
        "# output of output gate gets multiplied with hidden state\n",
        "# output goes to next cell/becomes the cell result"
      ],
      "execution_count": 0,
      "outputs": []
    },
    {
      "cell_type": "code",
      "metadata": {
        "id": "kpJQyWv9gxwJ",
        "colab_type": "code",
        "colab": {}
      },
      "source": [
        "# 7. 1D conv can detect patterns while can be parallelized and is not recurrent (more stable gradients)\n",
        "# it can also be used for downsampling"
      ],
      "execution_count": 0,
      "outputs": []
    },
    {
      "cell_type": "code",
      "metadata": {
        "id": "fuVNFrG-ixMS",
        "colab_type": "code",
        "colab": {}
      },
      "source": [
        "# 8. Use each frame as a time step, flatten/convolutional'ed and use any architecture"
      ],
      "execution_count": 0,
      "outputs": []
    },
    {
      "cell_type": "code",
      "metadata": {
        "id": "5RTfbXJxjKiV",
        "colab_type": "code",
        "colab": {}
      },
      "source": [
        "# 9. The dataset doesnt exist on tensorflow dataset?"
      ],
      "execution_count": 0,
      "outputs": []
    },
    {
      "cell_type": "code",
      "metadata": {
        "id": "coWn5Rhz0L9b",
        "colab_type": "code",
        "colab": {}
      },
      "source": [
        "# 10. Generation of Bach cholares"
      ],
      "execution_count": 0,
      "outputs": []
    },
    {
      "cell_type": "code",
      "metadata": {
        "id": "3OiBg3oH_Rjw",
        "colab_type": "code",
        "colab": {}
      },
      "source": [
        "import tarfile\n",
        "import urllib\n",
        "import os\n",
        "\n",
        "download_root = \"https://raw.githubusercontent.com/ageron/handson-ml2/master/\"\n",
        "chorales_path = os.path.join(\"datasets\", \"chorales\")\n",
        "chorales_url = download_root + \"datasets/jsb_chorales/jsb_chorales.tgz\"\n",
        "\n",
        "def get_data(download_url=chorales_url, chorales_path=chorales_path):\n",
        "  if not os.path.isdir(chorales_path):\n",
        "    os.makedirs(chorales_path)\n",
        "  tgz_path = os.path.join(chorales_path, \"jsb_chorales.tgz\")\n",
        "  urllib.request.urlretrieve(chorales_url, tgz_path)\n",
        "  chorales_tgz = tarfile.open(tgz_path)\n",
        "  chorales_tgz.extractall(path=chorales_path)\n",
        "  print(chorales_path)\n",
        "  chorales_tgz.close()"
      ],
      "execution_count": 0,
      "outputs": []
    },
    {
      "cell_type": "code",
      "metadata": {
        "id": "fD5seE9d9o7v",
        "colab_type": "code",
        "outputId": "a718fe34-31db-4017-afa3-b95e73c65b41",
        "colab": {
          "base_uri": "https://localhost:8080/",
          "height": 35
        }
      },
      "source": [
        "get_data()"
      ],
      "execution_count": 4,
      "outputs": [
        {
          "output_type": "stream",
          "text": [
            "datasets/chorales\n"
          ],
          "name": "stdout"
        }
      ]
    },
    {
      "cell_type": "code",
      "metadata": {
        "id": "0_AO53hgB7gt",
        "colab_type": "code",
        "colab": {}
      },
      "source": [
        "def load_chorales_data(chorales_path=chorales_path, dataset=\"train\"):\n",
        "  ar_list = []\n",
        "\n",
        "  if dataset==\"train\":\n",
        "    for i in range(0, 229):\n",
        "      csv_path = os.path.join(chorales_path, str(dataset), \"chorale_\" + str(\"{0:0=3d}\".format(i)) + \".csv\")\n",
        "      ar_single = np.genfromtxt(csv_path, delimiter=\",\")\n",
        "      ar_single.resize((640, 4))\n",
        "      ar_list.append(ar_single)\n",
        "  \n",
        "  if dataset==\"valid\":\n",
        "    for i in range(229, 305):\n",
        "      csv_path = os.path.join(chorales_path, str(dataset), \"chorale_\" + str(i) + \".csv\")\n",
        "      ar_single = np.genfromtxt(csv_path, delimiter=\",\")\n",
        "      ar_single.resize((640, 4))\n",
        "      ar_list.append(ar_single)\n",
        "    \n",
        "  if dataset==\"test\":\n",
        "    for i in range(305, 382):\n",
        "      csv_path = os.path.join(chorales_path, str(dataset), \"chorale_\" + str(i) + \".csv\")\n",
        "      ar_single = np.genfromtxt(csv_path, delimiter=\",\")\n",
        "      ar_single.resize((640, 4))\n",
        "      ar_list.append(ar_single)\n",
        "  \n",
        "  return ar_list"
      ],
      "execution_count": 0,
      "outputs": []
    },
    {
      "cell_type": "code",
      "metadata": {
        "id": "ILDcxm3dB92h",
        "colab_type": "code",
        "colab": {}
      },
      "source": [
        "train = load_chorales_data()\n",
        "valid = load_chorales_data(dataset=\"valid\")\n",
        "test = load_chorales_data(dataset=\"test\")"
      ],
      "execution_count": 0,
      "outputs": []
    },
    {
      "cell_type": "code",
      "metadata": {
        "id": "f071JFDJW5Ix",
        "colab_type": "code",
        "colab": {
          "base_uri": "https://localhost:8080/",
          "height": 35
        },
        "outputId": "1fdda7ee-a657-4f8c-a9d7-7132966d69f6"
      },
      "source": [
        "train = np.stack(train)\n",
        "valid = np.stack(valid)\n",
        "test = np.stack(test)\n",
        "\n",
        "train.shape, valid.shape, test.shape"
      ],
      "execution_count": 51,
      "outputs": [
        {
          "output_type": "execute_result",
          "data": {
            "text/plain": [
              "((229, 640, 4), (76, 640, 4), (77, 640, 4))"
            ]
          },
          "metadata": {
            "tags": []
          },
          "execution_count": 51
        }
      ]
    }
  ]
}