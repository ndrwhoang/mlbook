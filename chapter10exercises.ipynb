{
 "cells": [
  {
   "cell_type": "code",
   "execution_count": 1,
   "metadata": {},
   "outputs": [],
   "source": [
    "# 1."
   ]
  },
  {
   "cell_type": "code",
   "execution_count": 2,
   "metadata": {},
   "outputs": [],
   "source": [
    "# 2."
   ]
  },
  {
   "cell_type": "code",
   "execution_count": 3,
   "metadata": {},
   "outputs": [],
   "source": [
    "# 3. Classical perceptron uses the step activation function, which is prone to problems for nonlinear dataset\n",
    "# Change the function to sigmoid or softmax to make it equivalent to logistic regression"
   ]
  },
  {
   "cell_type": "code",
   "execution_count": 4,
   "metadata": {},
   "outputs": [],
   "source": [
    "# 4. It has non zero gradients, which allow for training"
   ]
  },
  {
   "cell_type": "code",
   "execution_count": 5,
   "metadata": {},
   "outputs": [],
   "source": [
    "# 5. Sigmoid, tanh, relu\n",
    "# No"
   ]
  },
  {
   "cell_type": "code",
   "execution_count": 6,
   "metadata": {},
   "outputs": [],
   "source": [
    "# 6. \n",
    "# a. 10 * batch_size\n",
    "# b. 10x50, 3\n",
    "# c. 50x3, 3\n",
    "# d. 3\n",
    "# e. Y = relu((relu(X*Wh + bh))*Wo + bo)"
   ]
  },
  {
   "cell_type": "code",
   "execution_count": 7,
   "metadata": {},
   "outputs": [],
   "source": [
    "# 7. Depends on the activation function, 1(logistic) or 2(softmax). \n",
    "# For MNIST, 10 outputs of softmax\n",
    "# For housing prices, 1 output without activation function"
   ]
  },
  {
   "cell_type": "code",
   "execution_count": 8,
   "metadata": {},
   "outputs": [],
   "source": [
    "# 8. Backprop: computes gradients of all paramteres for each cost and updates using gradient descent\n",
    "# reverse-mode autodiff: the part that computes the gradients"
   ]
  },
  {
   "cell_type": "code",
   "execution_count": 9,
   "metadata": {},
   "outputs": [],
   "source": [
    "# 9. Learning rate, number of neurons, number of layers, activation function\n",
    "# If overfit, reduce the number of layers or neurons"
   ]
  },
  {
   "cell_type": "code",
   "execution_count": 1,
   "metadata": {},
   "outputs": [],
   "source": [
    "# 10. Deep MLP in MNIST\n",
    "import tensorflow as tf\n",
    "from tensorflow import keras\n",
    "import numpy as np"
   ]
  },
  {
   "cell_type": "code",
   "execution_count": 10,
   "metadata": {},
   "outputs": [
    {
     "data": {
      "text/plain": [
       "'2.2.4-tf'"
      ]
     },
     "execution_count": 10,
     "metadata": {},
     "output_type": "execute_result"
    }
   ],
   "source": [
    "keras.__version__"
   ]
  },
  {
   "cell_type": "code",
   "execution_count": 2,
   "metadata": {},
   "outputs": [
    {
     "data": {
      "text/plain": [
       "((60000, 28, 28), (10000, 28, 28))"
      ]
     },
     "execution_count": 2,
     "metadata": {},
     "output_type": "execute_result"
    }
   ],
   "source": [
    "# Import MNIST dataset\n",
    "(X_train_full, y_train_full), (X_test, y_test) = keras.datasets.mnist.load_data()\n",
    "X_train_full.shape, X_test.shape"
   ]
  },
  {
   "cell_type": "code",
   "execution_count": 3,
   "metadata": {},
   "outputs": [],
   "source": [
    "X_valid, X_train = X_train_full[:10000], X_train_full[50000:]\n",
    "y_valid, y_train = y_train_full[:10000], y_train_full[50000:]"
   ]
  },
  {
   "cell_type": "code",
   "execution_count": 4,
   "metadata": {},
   "outputs": [],
   "source": [
    "# Scaling\n",
    "X_valid = X_valid/255\n",
    "X_train = X_train/255\n",
    "X_test = X_test/255"
   ]
  },
  {
   "cell_type": "code",
   "execution_count": 61,
   "metadata": {},
   "outputs": [
    {
     "name": "stdout",
     "output_type": "stream",
     "text": [
      "Model: \"sequential_6\"\n",
      "_________________________________________________________________\n",
      "Layer (type)                 Output Shape              Param #   \n",
      "=================================================================\n",
      "flatten_6 (Flatten)          (None, 784)               0         \n",
      "_________________________________________________________________\n",
      "dense_18 (Dense)             (None, 300)               235500    \n",
      "_________________________________________________________________\n",
      "dense_19 (Dense)             (None, 100)               30100     \n",
      "_________________________________________________________________\n",
      "dense_20 (Dense)             (None, 10)                1010      \n",
      "=================================================================\n",
      "Total params: 266,610\n",
      "Trainable params: 266,610\n",
      "Non-trainable params: 0\n",
      "_________________________________________________________________\n"
     ]
    }
   ],
   "source": [
    "# Model architecture\n",
    "from tensorflow.keras.models import Sequential\n",
    "from tensorflow.keras.layers import Flatten, Dense\n",
    "\n",
    "del model\n",
    "\n",
    "model = Sequential([\n",
    "    Flatten(input_shape=[28, 28]),\n",
    "    Dense(300, activation='relu'),\n",
    "    Dense(100, activation='relu'),\n",
    "    Dense(10, activation='softmax')\n",
    "])\n",
    "\n",
    "model.summary()"
   ]
  },
  {
   "cell_type": "code",
   "execution_count": 62,
   "metadata": {},
   "outputs": [],
   "source": [
    "model.compile(loss='sparse_categorical_crossentropy',\n",
    "             optimizer=keras.optimizers.SGD(lr=0.0005, momentum=0.9, nesterov=True),\n",
    "             metrics=['accuracy'])"
   ]
  },
  {
   "cell_type": "code",
   "execution_count": 7,
   "metadata": {},
   "outputs": [],
   "source": [
    "model.save('c10exercise.h5')"
   ]
  },
  {
   "cell_type": "code",
   "execution_count": 63,
   "metadata": {
    "scrolled": true
   },
   "outputs": [
    {
     "name": "stdout",
     "output_type": "stream",
     "text": [
      "Train on 10000 samples, validate on 10000 samples\n",
      "Epoch 1/200\n",
      "10000/10000 [==============================] - 2s 176us/sample - loss: 1.7792 - accuracy: 0.5489 - val_loss: 1.2404 - val_accuracy: 0.7536\n",
      "Epoch 2/200\n",
      "10000/10000 [==============================] - 1s 143us/sample - loss: 0.9078 - accuracy: 0.8189 - val_loss: 0.7354 - val_accuracy: 0.8230\n",
      "Epoch 3/200\n",
      "10000/10000 [==============================] - 1s 141us/sample - loss: 0.5950 - accuracy: 0.8610 - val_loss: 0.5669 - val_accuracy: 0.8515\n",
      "Epoch 4/200\n",
      "10000/10000 [==============================] - 1s 145us/sample - loss: 0.4750 - accuracy: 0.8785 - val_loss: 0.4861 - val_accuracy: 0.8677\n",
      "Epoch 5/200\n",
      "10000/10000 [==============================] - 1s 140us/sample - loss: 0.4129 - accuracy: 0.8917 - val_loss: 0.4407 - val_accuracy: 0.8774\n",
      "Epoch 6/200\n",
      "10000/10000 [==============================] - 1s 141us/sample - loss: 0.3738 - accuracy: 0.8990 - val_loss: 0.4075 - val_accuracy: 0.8867\n",
      "Epoch 7/200\n",
      "10000/10000 [==============================] - 1s 144us/sample - loss: 0.3459 - accuracy: 0.9037 - val_loss: 0.3842 - val_accuracy: 0.8919\n",
      "Epoch 8/200\n",
      "10000/10000 [==============================] - 2s 168us/sample - loss: 0.3246 - accuracy: 0.9092 - val_loss: 0.3679 - val_accuracy: 0.8953\n",
      "Epoch 9/200\n",
      "10000/10000 [==============================] - 2s 170us/sample - loss: 0.3083 - accuracy: 0.9120 - val_loss: 0.3531 - val_accuracy: 0.9004\n",
      "Epoch 10/200\n",
      "10000/10000 [==============================] - 2s 173us/sample - loss: 0.2951 - accuracy: 0.9168 - val_loss: 0.3415 - val_accuracy: 0.9020\n",
      "Epoch 11/200\n",
      "10000/10000 [==============================] - 2s 165us/sample - loss: 0.2823 - accuracy: 0.9214 - val_loss: 0.3355 - val_accuracy: 0.9026\n",
      "Epoch 12/200\n",
      "10000/10000 [==============================] - 2s 166us/sample - loss: 0.2723 - accuracy: 0.9239 - val_loss: 0.3237 - val_accuracy: 0.9066\n",
      "Epoch 13/200\n",
      "10000/10000 [==============================] - 2s 167us/sample - loss: 0.2632 - accuracy: 0.9261 - val_loss: 0.3180 - val_accuracy: 0.9084\n",
      "Epoch 14/200\n",
      "10000/10000 [==============================] - 2s 162us/sample - loss: 0.2545 - accuracy: 0.9284 - val_loss: 0.3095 - val_accuracy: 0.9107\n",
      "Epoch 15/200\n",
      "10000/10000 [==============================] - 2s 163us/sample - loss: 0.2461 - accuracy: 0.9310 - val_loss: 0.3083 - val_accuracy: 0.9110\n",
      "Epoch 16/200\n",
      "10000/10000 [==============================] - 2s 163us/sample - loss: 0.2395 - accuracy: 0.9331 - val_loss: 0.2994 - val_accuracy: 0.9143\n",
      "Epoch 17/200\n",
      "10000/10000 [==============================] - 2s 160us/sample - loss: 0.2327 - accuracy: 0.9361 - val_loss: 0.2939 - val_accuracy: 0.9157\n",
      "Epoch 18/200\n",
      "10000/10000 [==============================] - 2s 158us/sample - loss: 0.2265 - accuracy: 0.9380 - val_loss: 0.2918 - val_accuracy: 0.9147\n",
      "Epoch 19/200\n",
      "10000/10000 [==============================] - 2s 164us/sample - loss: 0.2206 - accuracy: 0.9392 - val_loss: 0.2837 - val_accuracy: 0.9178\n",
      "Epoch 20/200\n",
      "10000/10000 [==============================] - 2s 157us/sample - loss: 0.2145 - accuracy: 0.9414 - val_loss: 0.2802 - val_accuracy: 0.9186\n",
      "Epoch 21/200\n",
      "10000/10000 [==============================] - 2s 157us/sample - loss: 0.2089 - accuracy: 0.9409 - val_loss: 0.2751 - val_accuracy: 0.9197\n",
      "Epoch 22/200\n",
      "10000/10000 [==============================] - 2s 155us/sample - loss: 0.2040 - accuracy: 0.9449 - val_loss: 0.2762 - val_accuracy: 0.9192\n",
      "Epoch 23/200\n",
      "10000/10000 [==============================] - 2s 162us/sample - loss: 0.1987 - accuracy: 0.9456 - val_loss: 0.2690 - val_accuracy: 0.9204\n",
      "Epoch 24/200\n",
      "10000/10000 [==============================] - 2s 155us/sample - loss: 0.1938 - accuracy: 0.9467 - val_loss: 0.2657 - val_accuracy: 0.9224\n",
      "Epoch 25/200\n",
      "10000/10000 [==============================] - 2s 156us/sample - loss: 0.1902 - accuracy: 0.9477 - val_loss: 0.2628 - val_accuracy: 0.9220\n",
      "Epoch 26/200\n",
      "10000/10000 [==============================] - 2s 161us/sample - loss: 0.1850 - accuracy: 0.9497 - val_loss: 0.2618 - val_accuracy: 0.9245\n",
      "Epoch 27/200\n",
      "10000/10000 [==============================] - 2s 155us/sample - loss: 0.1810 - accuracy: 0.9510 - val_loss: 0.2556 - val_accuracy: 0.9259\n",
      "Epoch 28/200\n",
      "10000/10000 [==============================] - 2s 158us/sample - loss: 0.1771 - accuracy: 0.9527 - val_loss: 0.2534 - val_accuracy: 0.9277\n",
      "Epoch 29/200\n",
      "10000/10000 [==============================] - 2s 160us/sample - loss: 0.1730 - accuracy: 0.9520 - val_loss: 0.2509 - val_accuracy: 0.9273\n",
      "Epoch 30/200\n",
      "10000/10000 [==============================] - 2s 158us/sample - loss: 0.1696 - accuracy: 0.9537 - val_loss: 0.2487 - val_accuracy: 0.9281\n",
      "Epoch 31/200\n",
      "10000/10000 [==============================] - 2s 159us/sample - loss: 0.1657 - accuracy: 0.9558 - val_loss: 0.2463 - val_accuracy: 0.9298\n",
      "Epoch 32/200\n",
      "10000/10000 [==============================] - 2s 165us/sample - loss: 0.1621 - accuracy: 0.9564 - val_loss: 0.2430 - val_accuracy: 0.9308\n",
      "Epoch 33/200\n",
      "10000/10000 [==============================] - 2s 162us/sample - loss: 0.1578 - accuracy: 0.9576 - val_loss: 0.2422 - val_accuracy: 0.9287\n",
      "Epoch 34/200\n",
      "10000/10000 [==============================] - 2s 164us/sample - loss: 0.1552 - accuracy: 0.9581 - val_loss: 0.2398 - val_accuracy: 0.9309\n",
      "Epoch 35/200\n",
      "10000/10000 [==============================] - 2s 172us/sample - loss: 0.1519 - accuracy: 0.9590 - val_loss: 0.2375 - val_accuracy: 0.9310\n",
      "Epoch 36/200\n",
      "10000/10000 [==============================] - 2s 170us/sample - loss: 0.1489 - accuracy: 0.9617 - val_loss: 0.2375 - val_accuracy: 0.9301\n",
      "Epoch 37/200\n",
      "10000/10000 [==============================] - 2s 173us/sample - loss: 0.1457 - accuracy: 0.9618 - val_loss: 0.2338 - val_accuracy: 0.9313\n",
      "Epoch 38/200\n",
      "10000/10000 [==============================] - 2s 180us/sample - loss: 0.1430 - accuracy: 0.9607 - val_loss: 0.2313 - val_accuracy: 0.9320\n",
      "Epoch 39/200\n",
      "10000/10000 [==============================] - 2s 179us/sample - loss: 0.1398 - accuracy: 0.9624 - val_loss: 0.2291 - val_accuracy: 0.9334\n",
      "Epoch 40/200\n",
      "10000/10000 [==============================] - 2s 179us/sample - loss: 0.1367 - accuracy: 0.9637 - val_loss: 0.2272 - val_accuracy: 0.9336\n",
      "Epoch 41/200\n",
      "10000/10000 [==============================] - 2s 187us/sample - loss: 0.1335 - accuracy: 0.9653 - val_loss: 0.2267 - val_accuracy: 0.9335\n",
      "Epoch 42/200\n",
      "10000/10000 [==============================] - 2s 186us/sample - loss: 0.1310 - accuracy: 0.9666 - val_loss: 0.2236 - val_accuracy: 0.9355\n",
      "Epoch 43/200\n",
      "10000/10000 [==============================] - 2s 189us/sample - loss: 0.1285 - accuracy: 0.9667 - val_loss: 0.2224 - val_accuracy: 0.9348\n",
      "Epoch 44/200\n",
      "10000/10000 [==============================] - 2s 184us/sample - loss: 0.1255 - accuracy: 0.9686 - val_loss: 0.2229 - val_accuracy: 0.9365\n",
      "Epoch 45/200\n",
      "10000/10000 [==============================] - 2s 189us/sample - loss: 0.1232 - accuracy: 0.9685 - val_loss: 0.2189 - val_accuracy: 0.9365\n",
      "Epoch 46/200\n",
      "10000/10000 [==============================] - 2s 192us/sample - loss: 0.1209 - accuracy: 0.9689 - val_loss: 0.2186 - val_accuracy: 0.9367\n",
      "Epoch 47/200\n",
      "10000/10000 [==============================] - 2s 191us/sample - loss: 0.1181 - accuracy: 0.9699 - val_loss: 0.2193 - val_accuracy: 0.9358\n",
      "Epoch 48/200\n",
      "10000/10000 [==============================] - 2s 197us/sample - loss: 0.1161 - accuracy: 0.9701 - val_loss: 0.2156 - val_accuracy: 0.9369\n",
      "Epoch 49/200\n",
      "10000/10000 [==============================] - 2s 202us/sample - loss: 0.1138 - accuracy: 0.9708 - val_loss: 0.2140 - val_accuracy: 0.9383\n",
      "Epoch 50/200\n",
      "10000/10000 [==============================] - 2s 199us/sample - loss: 0.1113 - accuracy: 0.9724 - val_loss: 0.2125 - val_accuracy: 0.9385\n",
      "Epoch 51/200\n",
      "10000/10000 [==============================] - 2s 198us/sample - loss: 0.1092 - accuracy: 0.9724 - val_loss: 0.2135 - val_accuracy: 0.9379\n",
      "Epoch 52/200\n",
      "10000/10000 [==============================] - 2s 200us/sample - loss: 0.1072 - accuracy: 0.9733 - val_loss: 0.2109 - val_accuracy: 0.9382\n",
      "Epoch 53/200\n",
      "10000/10000 [==============================] - 2s 198us/sample - loss: 0.1047 - accuracy: 0.9752 - val_loss: 0.2085 - val_accuracy: 0.9398\n",
      "Epoch 54/200\n"
     ]
    },
    {
     "name": "stdout",
     "output_type": "stream",
     "text": [
      "10000/10000 [==============================] - 2s 199us/sample - loss: 0.1027 - accuracy: 0.9758 - val_loss: 0.2077 - val_accuracy: 0.9401\n",
      "Epoch 55/200\n",
      "10000/10000 [==============================] - 2s 193us/sample - loss: 0.1005 - accuracy: 0.9757 - val_loss: 0.2086 - val_accuracy: 0.9390\n",
      "Epoch 56/200\n",
      "10000/10000 [==============================] - 2s 200us/sample - loss: 0.0988 - accuracy: 0.9762 - val_loss: 0.2070 - val_accuracy: 0.9398\n",
      "Epoch 57/200\n",
      "10000/10000 [==============================] - 2s 197us/sample - loss: 0.0968 - accuracy: 0.9765 - val_loss: 0.2049 - val_accuracy: 0.9397\n",
      "Epoch 58/200\n",
      "10000/10000 [==============================] - 2s 192us/sample - loss: 0.0949 - accuracy: 0.9782 - val_loss: 0.2049 - val_accuracy: 0.9407\n",
      "Epoch 59/200\n",
      "10000/10000 [==============================] - 2s 200us/sample - loss: 0.0932 - accuracy: 0.9789 - val_loss: 0.2053 - val_accuracy: 0.9395\n",
      "Epoch 60/200\n",
      "10000/10000 [==============================] - 2s 197us/sample - loss: 0.0912 - accuracy: 0.9787 - val_loss: 0.2041 - val_accuracy: 0.9393\n",
      "Epoch 61/200\n",
      "10000/10000 [==============================] - 2s 198us/sample - loss: 0.0896 - accuracy: 0.9787 - val_loss: 0.2011 - val_accuracy: 0.9412\n",
      "Epoch 62/200\n",
      "10000/10000 [==============================] - 2s 196us/sample - loss: 0.0879 - accuracy: 0.9795 - val_loss: 0.2010 - val_accuracy: 0.9403\n",
      "Epoch 63/200\n",
      "10000/10000 [==============================] - 2s 195us/sample - loss: 0.0861 - accuracy: 0.9800 - val_loss: 0.1985 - val_accuracy: 0.9428\n",
      "Epoch 64/200\n",
      "10000/10000 [==============================] - 2s 194us/sample - loss: 0.0842 - accuracy: 0.9807 - val_loss: 0.1986 - val_accuracy: 0.9417\n",
      "Epoch 65/200\n",
      "10000/10000 [==============================] - 2s 189us/sample - loss: 0.0825 - accuracy: 0.9806 - val_loss: 0.1993 - val_accuracy: 0.9419\n",
      "Epoch 66/200\n",
      "10000/10000 [==============================] - 2s 198us/sample - loss: 0.0813 - accuracy: 0.9811 - val_loss: 0.1967 - val_accuracy: 0.9422\n",
      "Epoch 67/200\n",
      "10000/10000 [==============================] - 2s 190us/sample - loss: 0.0796 - accuracy: 0.9822 - val_loss: 0.1968 - val_accuracy: 0.9426\n",
      "Epoch 68/200\n",
      "10000/10000 [==============================] - 2s 194us/sample - loss: 0.0780 - accuracy: 0.9819 - val_loss: 0.1951 - val_accuracy: 0.9428\n",
      "Epoch 69/200\n",
      "10000/10000 [==============================] - 2s 194us/sample - loss: 0.0759 - accuracy: 0.9826 - val_loss: 0.1954 - val_accuracy: 0.9433\n",
      "Epoch 70/200\n",
      "10000/10000 [==============================] - 2s 188us/sample - loss: 0.0749 - accuracy: 0.9832 - val_loss: 0.1953 - val_accuracy: 0.9427\n",
      "Epoch 71/200\n",
      "10000/10000 [==============================] - 2s 192us/sample - loss: 0.0735 - accuracy: 0.9831 - val_loss: 0.1938 - val_accuracy: 0.9424\n",
      "Epoch 72/200\n",
      "10000/10000 [==============================] - 2s 195us/sample - loss: 0.0722 - accuracy: 0.9834 - val_loss: 0.1930 - val_accuracy: 0.9437\n",
      "Epoch 73/200\n",
      "10000/10000 [==============================] - 2s 190us/sample - loss: 0.0708 - accuracy: 0.9836 - val_loss: 0.1938 - val_accuracy: 0.9437\n",
      "Epoch 74/200\n",
      "10000/10000 [==============================] - 2s 192us/sample - loss: 0.0694 - accuracy: 0.9848 - val_loss: 0.1934 - val_accuracy: 0.9440\n",
      "Epoch 75/200\n",
      "10000/10000 [==============================] - 2s 193us/sample - loss: 0.0680 - accuracy: 0.9848 - val_loss: 0.1912 - val_accuracy: 0.9440\n",
      "Epoch 76/200\n",
      "10000/10000 [==============================] - 2s 193us/sample - loss: 0.0665 - accuracy: 0.9855 - val_loss: 0.1917 - val_accuracy: 0.9436\n",
      "Epoch 77/200\n",
      "10000/10000 [==============================] - 2s 197us/sample - loss: 0.0654 - accuracy: 0.9852 - val_loss: 0.1901 - val_accuracy: 0.9446\n",
      "Epoch 78/200\n",
      "10000/10000 [==============================] - 2s 190us/sample - loss: 0.0643 - accuracy: 0.9861 - val_loss: 0.1901 - val_accuracy: 0.9449\n",
      "Epoch 79/200\n",
      "10000/10000 [==============================] - 2s 195us/sample - loss: 0.0631 - accuracy: 0.9863 - val_loss: 0.1888 - val_accuracy: 0.9447\n",
      "Epoch 80/200\n",
      "10000/10000 [==============================] - 2s 197us/sample - loss: 0.0617 - accuracy: 0.9861 - val_loss: 0.1877 - val_accuracy: 0.9451\n",
      "Epoch 81/200\n",
      "10000/10000 [==============================] - 2s 191us/sample - loss: 0.0607 - accuracy: 0.9869 - val_loss: 0.1875 - val_accuracy: 0.9445\n",
      "Epoch 82/200\n",
      "10000/10000 [==============================] - 2s 193us/sample - loss: 0.0591 - accuracy: 0.9871 - val_loss: 0.1894 - val_accuracy: 0.9453\n",
      "Epoch 83/200\n",
      "10000/10000 [==============================] - 2s 190us/sample - loss: 0.0584 - accuracy: 0.9875 - val_loss: 0.1895 - val_accuracy: 0.9451\n",
      "Epoch 84/200\n",
      "10000/10000 [==============================] - 2s 189us/sample - loss: 0.0574 - accuracy: 0.9875 - val_loss: 0.1882 - val_accuracy: 0.9449\n",
      "Epoch 85/200\n",
      "10000/10000 [==============================] - 2s 196us/sample - loss: 0.0561 - accuracy: 0.9888 - val_loss: 0.1870 - val_accuracy: 0.9455\n",
      "Epoch 86/200\n",
      "10000/10000 [==============================] - 2s 192us/sample - loss: 0.0551 - accuracy: 0.9889 - val_loss: 0.1867 - val_accuracy: 0.9460\n",
      "Epoch 87/200\n",
      "10000/10000 [==============================] - 2s 195us/sample - loss: 0.0540 - accuracy: 0.9902 - val_loss: 0.1862 - val_accuracy: 0.9460\n",
      "Epoch 88/200\n",
      "10000/10000 [==============================] - 2s 191us/sample - loss: 0.0531 - accuracy: 0.9897 - val_loss: 0.1856 - val_accuracy: 0.9453\n",
      "Epoch 89/200\n",
      "10000/10000 [==============================] - 2s 188us/sample - loss: 0.0522 - accuracy: 0.9895 - val_loss: 0.1860 - val_accuracy: 0.9463\n",
      "Epoch 90/200\n",
      "10000/10000 [==============================] - 2s 194us/sample - loss: 0.0509 - accuracy: 0.9900 - val_loss: 0.1858 - val_accuracy: 0.9470\n",
      "Epoch 91/200\n",
      "10000/10000 [==============================] - 2s 193us/sample - loss: 0.0502 - accuracy: 0.9908 - val_loss: 0.1840 - val_accuracy: 0.9474\n",
      "Epoch 92/200\n",
      "10000/10000 [==============================] - 2s 190us/sample - loss: 0.0492 - accuracy: 0.9908 - val_loss: 0.1844 - val_accuracy: 0.9477\n",
      "Epoch 93/200\n",
      "10000/10000 [==============================] - 2s 191us/sample - loss: 0.0483 - accuracy: 0.9909 - val_loss: 0.1842 - val_accuracy: 0.9468\n",
      "Epoch 94/200\n",
      "10000/10000 [==============================] - 2s 187us/sample - loss: 0.0472 - accuracy: 0.9913 - val_loss: 0.1851 - val_accuracy: 0.9455\n",
      "Epoch 95/200\n",
      "10000/10000 [==============================] - 2s 195us/sample - loss: 0.0465 - accuracy: 0.9919 - val_loss: 0.1847 - val_accuracy: 0.9475\n",
      "Epoch 96/200\n",
      "10000/10000 [==============================] - 2s 188us/sample - loss: 0.0456 - accuracy: 0.9919 - val_loss: 0.1849 - val_accuracy: 0.9473\n",
      "Epoch 97/200\n",
      "10000/10000 [==============================] - 2s 194us/sample - loss: 0.0448 - accuracy: 0.9921 - val_loss: 0.1836 - val_accuracy: 0.9477\n",
      "Epoch 98/200\n",
      "10000/10000 [==============================] - 2s 199us/sample - loss: 0.0441 - accuracy: 0.9927 - val_loss: 0.1834 - val_accuracy: 0.9480\n",
      "Epoch 99/200\n",
      "10000/10000 [==============================] - 2s 192us/sample - loss: 0.0428 - accuracy: 0.9935 - val_loss: 0.1827 - val_accuracy: 0.9483\n",
      "Epoch 100/200\n",
      "10000/10000 [==============================] - 2s 194us/sample - loss: 0.0425 - accuracy: 0.9935 - val_loss: 0.1814 - val_accuracy: 0.9479\n",
      "Epoch 101/200\n",
      "10000/10000 [==============================] - 2s 193us/sample - loss: 0.0417 - accuracy: 0.9935 - val_loss: 0.1825 - val_accuracy: 0.9477\n",
      "Epoch 102/200\n",
      "10000/10000 [==============================] - 2s 189us/sample - loss: 0.0410 - accuracy: 0.9936 - val_loss: 0.1826 - val_accuracy: 0.9477\n",
      "Epoch 103/200\n",
      "10000/10000 [==============================] - 2s 191us/sample - loss: 0.0401 - accuracy: 0.9940 - val_loss: 0.1822 - val_accuracy: 0.9477\n",
      "Epoch 104/200\n",
      "10000/10000 [==============================] - 2s 192us/sample - loss: 0.0394 - accuracy: 0.9944 - val_loss: 0.1827 - val_accuracy: 0.9485\n",
      "Epoch 105/200\n",
      "10000/10000 [==============================] - 2s 187us/sample - loss: 0.0388 - accuracy: 0.9943 - val_loss: 0.1823 - val_accuracy: 0.9492\n",
      "Epoch 106/200\n",
      "10000/10000 [==============================] - 2s 195us/sample - loss: 0.0380 - accuracy: 0.9946 - val_loss: 0.1805 - val_accuracy: 0.9493\n",
      "Epoch 107/200\n",
      "10000/10000 [==============================] - 2s 183us/sample - loss: 0.0373 - accuracy: 0.9948 - val_loss: 0.1822 - val_accuracy: 0.9490\n"
     ]
    },
    {
     "name": "stdout",
     "output_type": "stream",
     "text": [
      "Epoch 108/200\n",
      "10000/10000 [==============================] - 2s 184us/sample - loss: 0.0367 - accuracy: 0.9945 - val_loss: 0.1808 - val_accuracy: 0.9490\n",
      "Epoch 109/200\n",
      "10000/10000 [==============================] - 2s 179us/sample - loss: 0.0360 - accuracy: 0.9951 - val_loss: 0.1817 - val_accuracy: 0.9479\n",
      "Epoch 110/200\n",
      "10000/10000 [==============================] - 2s 175us/sample - loss: 0.0354 - accuracy: 0.9948 - val_loss: 0.1815 - val_accuracy: 0.9480\n",
      "Epoch 111/200\n",
      "10000/10000 [==============================] - 2s 179us/sample - loss: 0.0347 - accuracy: 0.9952 - val_loss: 0.1811 - val_accuracy: 0.9489\n",
      "Epoch 112/200\n",
      "10000/10000 [==============================] - 2s 173us/sample - loss: 0.0342 - accuracy: 0.9956 - val_loss: 0.1799 - val_accuracy: 0.9490\n",
      "Epoch 113/200\n",
      "10000/10000 [==============================] - 2s 170us/sample - loss: 0.0335 - accuracy: 0.9954 - val_loss: 0.1809 - val_accuracy: 0.9479\n",
      "Epoch 114/200\n",
      "10000/10000 [==============================] - 2s 171us/sample - loss: 0.0329 - accuracy: 0.9956 - val_loss: 0.1820 - val_accuracy: 0.9480\n",
      "Epoch 115/200\n",
      "10000/10000 [==============================] - 2s 168us/sample - loss: 0.0324 - accuracy: 0.9961 - val_loss: 0.1820 - val_accuracy: 0.9487\n",
      "Epoch 116/200\n",
      "10000/10000 [==============================] - 2s 166us/sample - loss: 0.0318 - accuracy: 0.9961 - val_loss: 0.1811 - val_accuracy: 0.9492\n",
      "Epoch 117/200\n",
      "10000/10000 [==============================] - 2s 169us/sample - loss: 0.0312 - accuracy: 0.9961 - val_loss: 0.1806 - val_accuracy: 0.9491\n",
      "Epoch 118/200\n",
      "10000/10000 [==============================] - 2s 164us/sample - loss: 0.0307 - accuracy: 0.9961 - val_loss: 0.1818 - val_accuracy: 0.9493\n",
      "Epoch 119/200\n",
      "10000/10000 [==============================] - 2s 163us/sample - loss: 0.0301 - accuracy: 0.9964 - val_loss: 0.1811 - val_accuracy: 0.9495\n",
      "Epoch 120/200\n",
      "10000/10000 [==============================] - 2s 166us/sample - loss: 0.0297 - accuracy: 0.9967 - val_loss: 0.1803 - val_accuracy: 0.9494\n",
      "Epoch 121/200\n",
      "10000/10000 [==============================] - 2s 160us/sample - loss: 0.0291 - accuracy: 0.9965 - val_loss: 0.1818 - val_accuracy: 0.9491\n",
      "Epoch 122/200\n",
      "10000/10000 [==============================] - 2s 161us/sample - loss: 0.0286 - accuracy: 0.9968 - val_loss: 0.1797 - val_accuracy: 0.9492\n",
      "Epoch 123/200\n",
      "10000/10000 [==============================] - 2s 163us/sample - loss: 0.0283 - accuracy: 0.9967 - val_loss: 0.1810 - val_accuracy: 0.9497\n",
      "Epoch 124/200\n",
      "10000/10000 [==============================] - 2s 157us/sample - loss: 0.0277 - accuracy: 0.9971 - val_loss: 0.1805 - val_accuracy: 0.9499\n",
      "Epoch 125/200\n",
      "10000/10000 [==============================] - 2s 154us/sample - loss: 0.0273 - accuracy: 0.9972 - val_loss: 0.1808 - val_accuracy: 0.9495\n",
      "Epoch 126/200\n",
      "10000/10000 [==============================] - 2s 163us/sample - loss: 0.0268 - accuracy: 0.9973 - val_loss: 0.1796 - val_accuracy: 0.9495\n",
      "Epoch 127/200\n",
      "10000/10000 [==============================] - 2s 155us/sample - loss: 0.0263 - accuracy: 0.9973 - val_loss: 0.1807 - val_accuracy: 0.9498\n",
      "Epoch 128/200\n",
      "10000/10000 [==============================] - 2s 156us/sample - loss: 0.0260 - accuracy: 0.9976 - val_loss: 0.1793 - val_accuracy: 0.9497\n",
      "Epoch 129/200\n",
      "10000/10000 [==============================] - 2s 155us/sample - loss: 0.0255 - accuracy: 0.9975 - val_loss: 0.1800 - val_accuracy: 0.9494\n",
      "Epoch 130/200\n",
      "10000/10000 [==============================] - 2s 152us/sample - loss: 0.0250 - accuracy: 0.9976 - val_loss: 0.1806 - val_accuracy: 0.9500\n",
      "Epoch 131/200\n",
      "10000/10000 [==============================] - 2s 151us/sample - loss: 0.0247 - accuracy: 0.9976 - val_loss: 0.1806 - val_accuracy: 0.9491\n",
      "Epoch 132/200\n",
      "10000/10000 [==============================] - 2s 151us/sample - loss: 0.0244 - accuracy: 0.9978 - val_loss: 0.1802 - val_accuracy: 0.9498\n",
      "Epoch 133/200\n",
      "10000/10000 [==============================] - 2s 154us/sample - loss: 0.0239 - accuracy: 0.9979 - val_loss: 0.1801 - val_accuracy: 0.9502\n",
      "Epoch 134/200\n",
      "10000/10000 [==============================] - 1s 150us/sample - loss: 0.0236 - accuracy: 0.9977 - val_loss: 0.1795 - val_accuracy: 0.9502\n",
      "Epoch 135/200\n",
      "10000/10000 [==============================] - 2s 157us/sample - loss: 0.0232 - accuracy: 0.9979 - val_loss: 0.1806 - val_accuracy: 0.9492\n",
      "Epoch 136/200\n",
      "10000/10000 [==============================] - 2s 152us/sample - loss: 0.0227 - accuracy: 0.9981 - val_loss: 0.1792 - val_accuracy: 0.9503\n",
      "Epoch 137/200\n",
      "10000/10000 [==============================] - 2s 164us/sample - loss: 0.0224 - accuracy: 0.9980 - val_loss: 0.1803 - val_accuracy: 0.9499\n",
      "Epoch 138/200\n",
      "10000/10000 [==============================] - 1s 145us/sample - loss: 0.0220 - accuracy: 0.9981 - val_loss: 0.1811 - val_accuracy: 0.9503\n",
      "Epoch 139/200\n",
      "10000/10000 [==============================] - 2s 154us/sample - loss: 0.0217 - accuracy: 0.9981 - val_loss: 0.1808 - val_accuracy: 0.9497\n",
      "Epoch 140/200\n",
      "10000/10000 [==============================] - 2s 156us/sample - loss: 0.0214 - accuracy: 0.9983 - val_loss: 0.1809 - val_accuracy: 0.9504\n",
      "Epoch 141/200\n",
      "10000/10000 [==============================] - 1s 144us/sample - loss: 0.0211 - accuracy: 0.9985 - val_loss: 0.1799 - val_accuracy: 0.9501\n",
      "Epoch 142/200\n",
      "10000/10000 [==============================] - 1s 144us/sample - loss: 0.0207 - accuracy: 0.9983 - val_loss: 0.1800 - val_accuracy: 0.9500\n",
      "Epoch 143/200\n",
      "10000/10000 [==============================] - 1s 145us/sample - loss: 0.0204 - accuracy: 0.9988 - val_loss: 0.1805 - val_accuracy: 0.9503\n",
      "Epoch 144/200\n",
      "10000/10000 [==============================] - 1s 143us/sample - loss: 0.0201 - accuracy: 0.9984 - val_loss: 0.1807 - val_accuracy: 0.9505\n",
      "Epoch 145/200\n",
      "10000/10000 [==============================] - 1s 143us/sample - loss: 0.0198 - accuracy: 0.9990 - val_loss: 0.1801 - val_accuracy: 0.9503\n",
      "Epoch 146/200\n",
      "10000/10000 [==============================] - 1s 145us/sample - loss: 0.0196 - accuracy: 0.9986 - val_loss: 0.1798 - val_accuracy: 0.9507\n",
      "Epoch 147/200\n",
      "10000/10000 [==============================] - 1s 141us/sample - loss: 0.0193 - accuracy: 0.9989 - val_loss: 0.1800 - val_accuracy: 0.9504\n",
      "Epoch 148/200\n",
      "10000/10000 [==============================] - 1s 141us/sample - loss: 0.0190 - accuracy: 0.9985 - val_loss: 0.1809 - val_accuracy: 0.9507\n",
      "Epoch 149/200\n",
      "10000/10000 [==============================] - 1s 141us/sample - loss: 0.0186 - accuracy: 0.9989 - val_loss: 0.1815 - val_accuracy: 0.9502\n",
      "Epoch 150/200\n",
      "10000/10000 [==============================] - 1s 144us/sample - loss: 0.0184 - accuracy: 0.9989 - val_loss: 0.1807 - val_accuracy: 0.9509\n",
      "Epoch 151/200\n",
      "10000/10000 [==============================] - 1s 138us/sample - loss: 0.0181 - accuracy: 0.9990 - val_loss: 0.1800 - val_accuracy: 0.9510\n",
      "Epoch 152/200\n",
      "10000/10000 [==============================] - 1s 138us/sample - loss: 0.0179 - accuracy: 0.9988 - val_loss: 0.1808 - val_accuracy: 0.9505\n",
      "Epoch 153/200\n",
      "10000/10000 [==============================] - 1s 143us/sample - loss: 0.0176 - accuracy: 0.9993 - val_loss: 0.1805 - val_accuracy: 0.9507\n",
      "Epoch 154/200\n",
      "10000/10000 [==============================] - 1s 139us/sample - loss: 0.0174 - accuracy: 0.9990 - val_loss: 0.1812 - val_accuracy: 0.9508\n",
      "Epoch 155/200\n",
      "10000/10000 [==============================] - 1s 138us/sample - loss: 0.0171 - accuracy: 0.9990 - val_loss: 0.1806 - val_accuracy: 0.9507\n",
      "Epoch 156/200\n",
      "10000/10000 [==============================] - 1s 137us/sample - loss: 0.0169 - accuracy: 0.9990 - val_loss: 0.1816 - val_accuracy: 0.9510\n",
      "Epoch 157/200\n",
      "10000/10000 [==============================] - 1s 141us/sample - loss: 0.0166 - accuracy: 0.9992 - val_loss: 0.1812 - val_accuracy: 0.9511\n",
      "Epoch 158/200\n",
      "10000/10000 [==============================] - 1s 136us/sample - loss: 0.0164 - accuracy: 0.9992 - val_loss: 0.1820 - val_accuracy: 0.9508\n",
      "Epoch 159/200\n",
      "10000/10000 [==============================] - 1s 137us/sample - loss: 0.0162 - accuracy: 0.9992 - val_loss: 0.1808 - val_accuracy: 0.9513\n",
      "Epoch 160/200\n",
      "10000/10000 [==============================] - 1s 142us/sample - loss: 0.0160 - accuracy: 0.9994 - val_loss: 0.1811 - val_accuracy: 0.9512\n",
      "Epoch 161/200\n"
     ]
    },
    {
     "name": "stdout",
     "output_type": "stream",
     "text": [
      "10000/10000 [==============================] - 1s 140us/sample - loss: 0.0157 - accuracy: 0.9994 - val_loss: 0.1815 - val_accuracy: 0.9508\n",
      "Epoch 162/200\n",
      "10000/10000 [==============================] - 1s 138us/sample - loss: 0.0155 - accuracy: 0.9994 - val_loss: 0.1817 - val_accuracy: 0.9508\n",
      "Epoch 163/200\n",
      "10000/10000 [==============================] - 1s 137us/sample - loss: 0.0153 - accuracy: 0.9995 - val_loss: 0.1823 - val_accuracy: 0.9506\n",
      "Epoch 164/200\n",
      "10000/10000 [==============================] - 1s 140us/sample - loss: 0.0152 - accuracy: 0.9993 - val_loss: 0.1813 - val_accuracy: 0.9514\n",
      "Epoch 165/200\n",
      "10000/10000 [==============================] - 1s 137us/sample - loss: 0.0149 - accuracy: 0.9995 - val_loss: 0.1821 - val_accuracy: 0.9509\n",
      "Epoch 166/200\n",
      "10000/10000 [==============================] - 1s 135us/sample - loss: 0.0147 - accuracy: 0.9993 - val_loss: 0.1824 - val_accuracy: 0.9509\n"
     ]
    }
   ],
   "source": [
    "# Training - checkpoint at best validation error and early stopping\n",
    "from tensorflow.keras.callbacks import ModelCheckpoint, EarlyStopping\n",
    "\n",
    "n_epochs = 200\n",
    "checkpoint_cb = ModelCheckpoint('c10exercise.h5', save_best_only=True)\n",
    "early_cb = EarlyStopping(patience=30, restore_best_weights=True)\n",
    "\n",
    "history = model.fit(X_train, y_train, epochs=n_epochs, batch_size=32,\n",
    "                   validation_data=(X_valid, y_valid),\n",
    "                   callbacks=[checkpoint_cb, early_cb])"
   ]
  },
  {
   "cell_type": "code",
   "execution_count": 64,
   "metadata": {},
   "outputs": [
    {
     "data": {
      "image/png": "[encoded data removed]",
      "text/plain": [
       "<Figure size 576x360 with 1 Axes>"
      ]
     },
     "metadata": {
      "needs_background": "light"
     },
     "output_type": "display_data"
    }
   ],
   "source": [
    "# Training plot\n",
    "import pandas as pd\n",
    "import matplotlib.pyplot as plt\n",
    "%matplotlib inline\n",
    "\n",
    "pd.DataFrame(history.history).plot(figsize=(8, 5))\n",
    "plt.grid(True)\n",
    "plt.gca().set_ylim(0, 1)\n",
    "plt.show()"
   ]
  },
  {
   "cell_type": "code",
   "execution_count": 65,
   "metadata": {},
   "outputs": [],
   "source": [
    "y_pred = model.predict_classes(X_test)"
   ]
  },
  {
   "cell_type": "code",
   "execution_count": 66,
   "metadata": {},
   "outputs": [
    {
     "data": {
      "text/plain": [
       "0.9498484790204943"
      ]
     },
     "execution_count": 66,
     "metadata": {},
     "output_type": "execute_result"
    }
   ],
   "source": [
    "from sklearn.metrics import precision_score\n",
    "\n",
    "precision_score(y_pred, y_test, average='macro')"
   ]
  },
  {
   "cell_type": "code",
   "execution_count": null,
   "metadata": {},
   "outputs": [],
   "source": []
  }
 ],
 "metadata": {
  "kernelspec": {
   "display_name": "Python 3",
   "language": "python",
   "name": "python3"
  },
  "language_info": {
   "codemirror_mode": {
    "name": "ipython",
    "version": 3
   },
   "file_extension": ".py",
   "mimetype": "text/x-python",
   "name": "python",
   "nbconvert_exporter": "python",
   "pygments_lexer": "ipython3",
   "version": "3.7.3"
  }
 },
 "nbformat": 4,
 "nbformat_minor": 2
}
