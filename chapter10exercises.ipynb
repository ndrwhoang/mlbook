{
 "cells": [
  {
   "cell_type": "code",
   "execution_count": 1,
   "metadata": {},
   "outputs": [],
   "source": [
    "# 1."
   ]
  },
  {
   "cell_type": "code",
   "execution_count": 2,
   "metadata": {},
   "outputs": [],
   "source": [
    "# 2."
   ]
  },
  {
   "cell_type": "code",
   "execution_count": 3,
   "metadata": {},
   "outputs": [],
   "source": [
    "# 3. Classical perceptron uses the step activation function, which is prone to problems for nonlinear dataset\n",
    "# Change the function to sigmoid or softmax to make it equivalent to logistic regression"
   ]
  },
  {
   "cell_type": "code",
   "execution_count": 4,
   "metadata": {},
   "outputs": [],
   "source": [
    "# 4. It has non zero gradients, which allow for training"
   ]
  },
  {
   "cell_type": "code",
   "execution_count": 5,
   "metadata": {},
   "outputs": [],
   "source": [
    "# 5. Sigmoid, tanh, relu\n",
    "# No"
   ]
  },
  {
   "cell_type": "code",
   "execution_count": 6,
   "metadata": {},
   "outputs": [],
   "source": [
    "# 6. \n",
    "# a. 10 * batch_size\n",
    "# b. 10x50, 3\n",
    "# c. 50x3, 3\n",
    "# d. 3\n",
    "# e. Y = relu((relu(X*Wh + bh))*Wo + bo)"
   ]
  },
  {
   "cell_type": "code",
   "execution_count": 7,
   "metadata": {},
   "outputs": [],
   "source": [
    "# 7. Depends on the activation function, 1(logistic) or 2(softmax). \n",
    "# For MNIST, 10 outputs of softmax\n",
    "# For housing prices, 1 output without activation function"
   ]
  },
  {
   "cell_type": "code",
   "execution_count": 8,
   "metadata": {},
   "outputs": [],
   "source": [
    "# 8. Backprop: computes gradients of all paramteres for each cost and updates using gradient descent\n",
    "# reverse-mode autodiff: the part that computes the gradients"
   ]
  },
  {
   "cell_type": "code",
   "execution_count": 9,
   "metadata": {},
   "outputs": [],
   "source": [
    "# 9. Learning rate, number of neurons, number of layers, activation function\n",
    "# If overfit, reduce the number of layers or neurons"
   ]
  },
  {
   "cell_type": "code",
   "execution_count": 1,
   "metadata": {},
   "outputs": [],
   "source": [
    "# 10. Deep MLP in MNIST\n",
    "import tensorflow as tf\n",
    "from tensorflow import keras\n",
    "import numpy as np"
   ]
  },
  {
   "cell_type": "code",
   "execution_count": 10,
   "metadata": {},
   "outputs": [
    {
     "data": {
      "text/plain": [
       "'2.2.4-tf'"
      ]
     },
     "execution_count": 10,
     "metadata": {},
     "output_type": "execute_result"
    }
   ],
   "source": [
    "keras.__version__"
   ]
  },
  {
   "cell_type": "code",
   "execution_count": 2,
   "metadata": {},
   "outputs": [
    {
     "data": {
      "text/plain": [
       "((60000, 28, 28), (10000, 28, 28))"
      ]
     },
     "execution_count": 2,
     "metadata": {},
     "output_type": "execute_result"
    }
   ],
   "source": [
    "# Import MNIST dataset\n",
    "(X_train_full, y_train_full), (X_test, y_test) = keras.datasets.mnist.load_data()\n",
    "X_train_full.shape, X_test.shape"
   ]
  },
  {
   "cell_type": "code",
   "execution_count": 3,
   "metadata": {},
   "outputs": [],
   "source": [
    "X_valid, X_train = X_train_full[:10000], X_train_full[10000:]\n",
    "y_valid, y_train = y_train_full[:10000], y_train_full[10000:]"
   ]
  },
  {
   "cell_type": "code",
   "execution_count": 4,
   "metadata": {},
   "outputs": [],
   "source": [
    "# Scaling\n",
    "X_valid = X_valid/255\n",
    "X_train = X_train/255\n",
    "X_test = X_test/255"
   ]
  },
  {
   "cell_type": "code",
   "execution_count": 6,
   "metadata": {},
   "outputs": [
    {
     "name": "stdout",
     "output_type": "stream",
     "text": [
      "Model: \"sequential\"\n",
      "_________________________________________________________________\n",
      "Layer (type)                 Output Shape              Param #   \n",
      "=================================================================\n",
      "flatten (Flatten)            (None, 784)               0         \n",
      "_________________________________________________________________\n",
      "dense (Dense)                (None, 300)               235500    \n",
      "_________________________________________________________________\n",
      "dense_1 (Dense)              (None, 100)               30100     \n",
      "_________________________________________________________________\n",
      "dense_2 (Dense)              (None, 10)                1010      \n",
      "=================================================================\n",
      "Total params: 266,610\n",
      "Trainable params: 266,610\n",
      "Non-trainable params: 0\n",
      "_________________________________________________________________\n"
     ]
    }
   ],
   "source": [
    "# Model architecture\n",
    "from tensorflow.keras.models import Sequential\n",
    "from tensorflow.keras.layers import Flatten, Dense\n",
    "\n",
    "model = Sequential([\n",
    "    Flatten(input_shape=[28, 28]),\n",
    "    Dense(300, activation='relu'),\n",
    "    Dense(100, activation='relu'),\n",
    "    Dense(10, activation='softmax')\n",
    "])\n",
    "\n",
    "model.summary()"
   ]
  },
  {
   "cell_type": "code",
   "execution_count": 7,
   "metadata": {},
   "outputs": [],
   "source": [
    "model.compile(loss='sparse_categorical_crossentropy',\n",
    "             optimizer=keras.optimizers.SGD(lr=0.01),\n",
    "             metrics=['accuracy'])"
   ]
  },
  {
   "cell_type": "code",
   "execution_count": 8,
   "metadata": {},
   "outputs": [],
   "source": [
    "model.save('c10exercise.h5')"
   ]
  },
  {
   "cell_type": "code",
   "execution_count": 9,
   "metadata": {
    "scrolled": true
   },
   "outputs": [
    {
     "name": "stdout",
     "output_type": "stream",
     "text": [
      "Train on 50000 samples, validate on 10000 samples\n",
      "Epoch 1/200\n",
      "50000/50000 [==============================] - 5s 103us/sample - loss: 0.6348 - accuracy: 0.8353 - val_loss: 0.3253 - val_accuracy: 0.9111\n",
      "Epoch 2/200\n",
      "50000/50000 [==============================] - 4s 84us/sample - loss: 0.2976 - accuracy: 0.9143 - val_loss: 0.2634 - val_accuracy: 0.9251\n",
      "Epoch 3/200\n",
      "50000/50000 [==============================] - 4s 81us/sample - loss: 0.2453 - accuracy: 0.9295 - val_loss: 0.2255 - val_accuracy: 0.9365\n",
      "Epoch 4/200\n",
      "50000/50000 [==============================] - 4s 82us/sample - loss: 0.2103 - accuracy: 0.9390 - val_loss: 0.2018 - val_accuracy: 0.9410\n",
      "Epoch 5/200\n",
      "50000/50000 [==============================] - 4s 86us/sample - loss: 0.1836 - accuracy: 0.9477 - val_loss: 0.1784 - val_accuracy: 0.9488\n",
      "Epoch 6/200\n",
      "50000/50000 [==============================] - 4s 83us/sample - loss: 0.1632 - accuracy: 0.9528 - val_loss: 0.1654 - val_accuracy: 0.9521\n",
      "Epoch 7/200\n",
      "50000/50000 [==============================] - 4s 84us/sample - loss: 0.1461 - accuracy: 0.9581 - val_loss: 0.1533 - val_accuracy: 0.9563\n",
      "Epoch 8/200\n",
      "50000/50000 [==============================] - 4s 85us/sample - loss: 0.1322 - accuracy: 0.9627 - val_loss: 0.1420 - val_accuracy: 0.9584\n",
      "Epoch 9/200\n",
      "50000/50000 [==============================] - 4s 88us/sample - loss: 0.1203 - accuracy: 0.9655 - val_loss: 0.1355 - val_accuracy: 0.9605\n",
      "Epoch 10/200\n",
      "50000/50000 [==============================] - 4s 89us/sample - loss: 0.1105 - accuracy: 0.9688 - val_loss: 0.1278 - val_accuracy: 0.9630\n",
      "Epoch 11/200\n",
      "50000/50000 [==============================] - 4s 87us/sample - loss: 0.1018 - accuracy: 0.9712 - val_loss: 0.1211 - val_accuracy: 0.9637\n",
      "Epoch 12/200\n",
      "50000/50000 [==============================] - 4s 86us/sample - loss: 0.0940 - accuracy: 0.9734 - val_loss: 0.1176 - val_accuracy: 0.9656\n",
      "Epoch 13/200\n",
      "50000/50000 [==============================] - 4s 85us/sample - loss: 0.0871 - accuracy: 0.9760 - val_loss: 0.1129 - val_accuracy: 0.9671\n",
      "Epoch 14/200\n",
      "50000/50000 [==============================] - 4s 89us/sample - loss: 0.0815 - accuracy: 0.9768 - val_loss: 0.1075 - val_accuracy: 0.9687\n",
      "Epoch 15/200\n",
      "50000/50000 [==============================] - 5s 98us/sample - loss: 0.0757 - accuracy: 0.9790 - val_loss: 0.1032 - val_accuracy: 0.9702\n",
      "Epoch 16/200\n",
      "50000/50000 [==============================] - 5s 104us/sample - loss: 0.0712 - accuracy: 0.9804 - val_loss: 0.1045 - val_accuracy: 0.9694\n",
      "Epoch 17/200\n",
      "50000/50000 [==============================] - 5s 100us/sample - loss: 0.0665 - accuracy: 0.9819 - val_loss: 0.0990 - val_accuracy: 0.9710\n",
      "Epoch 18/200\n",
      "50000/50000 [==============================] - 5s 103us/sample - loss: 0.0624 - accuracy: 0.9833 - val_loss: 0.0980 - val_accuracy: 0.9714\n",
      "Epoch 19/200\n",
      "50000/50000 [==============================] - 5s 108us/sample - loss: 0.0587 - accuracy: 0.9848 - val_loss: 0.0970 - val_accuracy: 0.9721\n",
      "Epoch 20/200\n",
      "50000/50000 [==============================] - 6s 115us/sample - loss: 0.0551 - accuracy: 0.9853 - val_loss: 0.0909 - val_accuracy: 0.9733\n",
      "Epoch 21/200\n",
      "50000/50000 [==============================] - 6s 119us/sample - loss: 0.0521 - accuracy: 0.9863 - val_loss: 0.0959 - val_accuracy: 0.9718\n",
      "Epoch 22/200\n",
      "50000/50000 [==============================] - 7s 134us/sample - loss: 0.0491 - accuracy: 0.9871 - val_loss: 0.0914 - val_accuracy: 0.9726\n",
      "Epoch 23/200\n",
      "50000/50000 [==============================] - 7s 137us/sample - loss: 0.0462 - accuracy: 0.9882 - val_loss: 0.0916 - val_accuracy: 0.9737\n",
      "Epoch 24/200\n",
      "50000/50000 [==============================] - 7s 141us/sample - loss: 0.0436 - accuracy: 0.9888 - val_loss: 0.0890 - val_accuracy: 0.9752\n",
      "Epoch 25/200\n",
      "50000/50000 [==============================] - 7s 142us/sample - loss: 0.0413 - accuracy: 0.9897 - val_loss: 0.0860 - val_accuracy: 0.9748\n",
      "Epoch 26/200\n",
      "50000/50000 [==============================] - 7s 145us/sample - loss: 0.0390 - accuracy: 0.9905 - val_loss: 0.0850 - val_accuracy: 0.9756\n",
      "Epoch 27/200\n",
      "50000/50000 [==============================] - 7s 149us/sample - loss: 0.0369 - accuracy: 0.9909 - val_loss: 0.0863 - val_accuracy: 0.9757\n",
      "Epoch 28/200\n",
      "50000/50000 [==============================] - 7s 136us/sample - loss: 0.0348 - accuracy: 0.9917 - val_loss: 0.0852 - val_accuracy: 0.9747\n",
      "Epoch 29/200\n",
      "50000/50000 [==============================] - 7s 134us/sample - loss: 0.0330 - accuracy: 0.9921 - val_loss: 0.0836 - val_accuracy: 0.9755\n",
      "Epoch 30/200\n",
      "50000/50000 [==============================] - 7s 135us/sample - loss: 0.0312 - accuracy: 0.9930 - val_loss: 0.0848 - val_accuracy: 0.9755\n",
      "Epoch 31/200\n",
      "50000/50000 [==============================] - 7s 145us/sample - loss: 0.0295 - accuracy: 0.9935 - val_loss: 0.0831 - val_accuracy: 0.9758\n",
      "Epoch 32/200\n",
      "50000/50000 [==============================] - 7s 141us/sample - loss: 0.0278 - accuracy: 0.9938 - val_loss: 0.0820 - val_accuracy: 0.9762\n",
      "Epoch 33/200\n",
      "50000/50000 [==============================] - 7s 134us/sample - loss: 0.0264 - accuracy: 0.9946 - val_loss: 0.0828 - val_accuracy: 0.9762\n",
      "Epoch 34/200\n",
      "50000/50000 [==============================] - 7s 138us/sample - loss: 0.0251 - accuracy: 0.9948 - val_loss: 0.0815 - val_accuracy: 0.9770\n",
      "Epoch 35/200\n",
      "50000/50000 [==============================] - 7s 134us/sample - loss: 0.0239 - accuracy: 0.9951 - val_loss: 0.0824 - val_accuracy: 0.9759\n",
      "Epoch 36/200\n",
      "50000/50000 [==============================] - 7s 135us/sample - loss: 0.0226 - accuracy: 0.9957 - val_loss: 0.0820 - val_accuracy: 0.9764\n",
      "Epoch 37/200\n",
      "50000/50000 [==============================] - 7s 134us/sample - loss: 0.0214 - accuracy: 0.9960 - val_loss: 0.0815 - val_accuracy: 0.9758\n",
      "Epoch 38/200\n",
      "50000/50000 [==============================] - 7s 144us/sample - loss: 0.0204 - accuracy: 0.9964 - val_loss: 0.0796 - val_accuracy: 0.9768\n",
      "Epoch 39/200\n",
      "50000/50000 [==============================] - 7s 137us/sample - loss: 0.0193 - accuracy: 0.9965 - val_loss: 0.0821 - val_accuracy: 0.9760\n",
      "Epoch 40/200\n",
      "50000/50000 [==============================] - 7s 139us/sample - loss: 0.0183 - accuracy: 0.9971 - val_loss: 0.0842 - val_accuracy: 0.9756\n",
      "Epoch 41/200\n",
      "50000/50000 [==============================] - 7s 140us/sample - loss: 0.0175 - accuracy: 0.9973 - val_loss: 0.0793 - val_accuracy: 0.9775\n",
      "Epoch 42/200\n",
      "50000/50000 [==============================] - 6s 126us/sample - loss: 0.0166 - accuracy: 0.9974 - val_loss: 0.0802 - val_accuracy: 0.9775\n",
      "Epoch 43/200\n",
      "50000/50000 [==============================] - 7s 138us/sample - loss: 0.0157 - accuracy: 0.9978 - val_loss: 0.0810 - val_accuracy: 0.9766\n",
      "Epoch 44/200\n",
      "50000/50000 [==============================] - 8s 151us/sample - loss: 0.0150 - accuracy: 0.9979 - val_loss: 0.0791 - val_accuracy: 0.9776\n",
      "Epoch 45/200\n",
      "50000/50000 [==============================] - 5s 106us/sample - loss: 0.0143 - accuracy: 0.9983 - val_loss: 0.0801 - val_accuracy: 0.9770\n",
      "Epoch 46/200\n",
      "50000/50000 [==============================] - 5s 105us/sample - loss: 0.0134 - accuracy: 0.9985 - val_loss: 0.0811 - val_accuracy: 0.9776\n",
      "Epoch 47/200\n",
      "50000/50000 [==============================] - 5s 108us/sample - loss: 0.0129 - accuracy: 0.9985 - val_loss: 0.0790 - val_accuracy: 0.9775\n",
      "Epoch 48/200\n",
      "50000/50000 [==============================] - 5s 107us/sample - loss: 0.0123 - accuracy: 0.9986 - val_loss: 0.0802 - val_accuracy: 0.9779\n",
      "Epoch 49/200\n",
      "50000/50000 [==============================] - 5s 102us/sample - loss: 0.0117 - accuracy: 0.9987 - val_loss: 0.0804 - val_accuracy: 0.9784\n",
      "Epoch 50/200\n",
      "50000/50000 [==============================] - 6s 117us/sample - loss: 0.0112 - accuracy: 0.9988 - val_loss: 0.0799 - val_accuracy: 0.9773\n",
      "Epoch 51/200\n",
      "50000/50000 [==============================] - 5s 106us/sample - loss: 0.0108 - accuracy: 0.9990 - val_loss: 0.0812 - val_accuracy: 0.9773\n",
      "Epoch 52/200\n",
      "50000/50000 [==============================] - 6s 113us/sample - loss: 0.0103 - accuracy: 0.9990 - val_loss: 0.0805 - val_accuracy: 0.9777\n",
      "Epoch 53/200\n",
      "50000/50000 [==============================] - 6s 116us/sample - loss: 0.0098 - accuracy: 0.9992 - val_loss: 0.0802 - val_accuracy: 0.9780\n",
      "Epoch 54/200\n",
      "50000/50000 [==============================] - 6s 112us/sample - loss: 0.0094 - accuracy: 0.9992 - val_loss: 0.0809 - val_accuracy: 0.9774\n"
     ]
    },
    {
     "name": "stdout",
     "output_type": "stream",
     "text": [
      "Epoch 55/200\n",
      "50000/50000 [==============================] - 6s 110us/sample - loss: 0.0090 - accuracy: 0.9993 - val_loss: 0.0798 - val_accuracy: 0.9777\n",
      "Epoch 56/200\n",
      "50000/50000 [==============================] - 6s 114us/sample - loss: 0.0086 - accuracy: 0.9994 - val_loss: 0.0814 - val_accuracy: 0.9779\n",
      "Epoch 57/200\n",
      "50000/50000 [==============================] - 6s 125us/sample - loss: 0.0083 - accuracy: 0.9993 - val_loss: 0.0829 - val_accuracy: 0.9783\n",
      "Epoch 58/200\n",
      "50000/50000 [==============================] - 7s 132us/sample - loss: 0.0080 - accuracy: 0.9994 - val_loss: 0.0807 - val_accuracy: 0.9784\n",
      "Epoch 59/200\n",
      "50000/50000 [==============================] - 7s 145us/sample - loss: 0.0076 - accuracy: 0.9996 - val_loss: 0.0820 - val_accuracy: 0.9781\n",
      "Epoch 60/200\n",
      "50000/50000 [==============================] - 7s 132us/sample - loss: 0.0074 - accuracy: 0.9995 - val_loss: 0.0822 - val_accuracy: 0.9776\n",
      "Epoch 61/200\n",
      "50000/50000 [==============================] - 6s 125us/sample - loss: 0.0071 - accuracy: 0.9996 - val_loss: 0.0810 - val_accuracy: 0.9778\n",
      "Epoch 62/200\n",
      "50000/50000 [==============================] - 7s 131us/sample - loss: 0.0068 - accuracy: 0.9995 - val_loss: 0.0826 - val_accuracy: 0.9781\n",
      "Epoch 63/200\n",
      "50000/50000 [==============================] - 7s 144us/sample - loss: 0.0066 - accuracy: 0.9997 - val_loss: 0.0815 - val_accuracy: 0.9783\n",
      "Epoch 64/200\n",
      "50000/50000 [==============================] - 7s 133us/sample - loss: 0.0063 - accuracy: 0.9996 - val_loss: 0.0816 - val_accuracy: 0.9781\n",
      "Epoch 65/200\n",
      "50000/50000 [==============================] - 7s 138us/sample - loss: 0.0061 - accuracy: 0.9996 - val_loss: 0.0832 - val_accuracy: 0.9777\n",
      "Epoch 66/200\n",
      "50000/50000 [==============================] - 7s 133us/sample - loss: 0.0059 - accuracy: 0.9997 - val_loss: 0.0819 - val_accuracy: 0.9781\n",
      "Epoch 67/200\n",
      "50000/50000 [==============================] - 7s 132us/sample - loss: 0.0056 - accuracy: 0.9998 - val_loss: 0.0828 - val_accuracy: 0.9782\n",
      "Epoch 68/200\n",
      "50000/50000 [==============================] - 7s 134us/sample - loss: 0.0055 - accuracy: 0.9998 - val_loss: 0.0829 - val_accuracy: 0.9783\n",
      "Epoch 69/200\n",
      "50000/50000 [==============================] - 7s 133us/sample - loss: 0.0053 - accuracy: 0.9998 - val_loss: 0.0821 - val_accuracy: 0.9783\n",
      "Epoch 70/200\n",
      "50000/50000 [==============================] - 7s 131us/sample - loss: 0.0050 - accuracy: 0.9998 - val_loss: 0.0844 - val_accuracy: 0.9777\n",
      "Epoch 71/200\n",
      "50000/50000 [==============================] - 6s 129us/sample - loss: 0.0049 - accuracy: 0.9999 - val_loss: 0.0838 - val_accuracy: 0.9783\n",
      "Epoch 72/200\n",
      "50000/50000 [==============================] - 6s 121us/sample - loss: 0.0047 - accuracy: 0.9999 - val_loss: 0.0840 - val_accuracy: 0.9779\n",
      "Epoch 73/200\n",
      "50000/50000 [==============================] - 6s 118us/sample - loss: 0.0046 - accuracy: 0.9999 - val_loss: 0.0835 - val_accuracy: 0.9782\n",
      "Epoch 74/200\n",
      "50000/50000 [==============================] - 5s 109us/sample - loss: 0.0045 - accuracy: 0.9999 - val_loss: 0.0844 - val_accuracy: 0.9780\n",
      "Epoch 75/200\n",
      "50000/50000 [==============================] - 5s 109us/sample - loss: 0.0044 - accuracy: 0.9999 - val_loss: 0.0837 - val_accuracy: 0.9791\n",
      "Epoch 76/200\n",
      "50000/50000 [==============================] - 5s 102us/sample - loss: 0.0042 - accuracy: 0.9999 - val_loss: 0.0849 - val_accuracy: 0.9784\n",
      "Epoch 77/200\n",
      "50000/50000 [==============================] - 5s 100us/sample - loss: 0.0041 - accuracy: 0.9999 - val_loss: 0.0844 - val_accuracy: 0.9781\n",
      "Epoch 78/200\n",
      "50000/50000 [==============================] - 5s 100us/sample - loss: 0.0040 - accuracy: 0.9999 - val_loss: 0.0844 - val_accuracy: 0.9784\n",
      "Epoch 79/200\n",
      "50000/50000 [==============================] - 5s 105us/sample - loss: 0.0039 - accuracy: 0.9999 - val_loss: 0.0848 - val_accuracy: 0.9783\n",
      "Epoch 80/200\n",
      "50000/50000 [==============================] - 5s 99us/sample - loss: 0.0038 - accuracy: 0.9999 - val_loss: 0.0849 - val_accuracy: 0.9784\n",
      "Epoch 81/200\n",
      "50000/50000 [==============================] - 5s 96us/sample - loss: 0.0037 - accuracy: 0.9999 - val_loss: 0.0857 - val_accuracy: 0.9779\n",
      "Epoch 82/200\n",
      "50000/50000 [==============================] - 5s 94us/sample - loss: 0.0036 - accuracy: 0.9999 - val_loss: 0.0851 - val_accuracy: 0.9784\n",
      "Epoch 83/200\n",
      "50000/50000 [==============================] - 5s 90us/sample - loss: 0.0035 - accuracy: 0.9999 - val_loss: 0.0857 - val_accuracy: 0.9781\n",
      "Epoch 84/200\n",
      "50000/50000 [==============================] - 4s 88us/sample - loss: 0.0034 - accuracy: 0.9999 - val_loss: 0.0861 - val_accuracy: 0.9781\n",
      "Epoch 85/200\n",
      "50000/50000 [==============================] - 4s 90us/sample - loss: 0.0033 - accuracy: 0.9999 - val_loss: 0.0865 - val_accuracy: 0.9785\n",
      "Epoch 86/200\n",
      "50000/50000 [==============================] - 4s 90us/sample - loss: 0.0032 - accuracy: 0.9999 - val_loss: 0.0869 - val_accuracy: 0.9784\n",
      "Epoch 87/200\n",
      "50000/50000 [==============================] - 4s 86us/sample - loss: 0.0031 - accuracy: 1.0000 - val_loss: 0.0862 - val_accuracy: 0.9785\n",
      "Epoch 88/200\n",
      "50000/50000 [==============================] - 4s 86us/sample - loss: 0.0030 - accuracy: 0.9999 - val_loss: 0.0859 - val_accuracy: 0.9783\n",
      "Epoch 89/200\n",
      "50000/50000 [==============================] - 4s 85us/sample - loss: 0.0030 - accuracy: 0.9999 - val_loss: 0.0867 - val_accuracy: 0.9781\n",
      "Epoch 90/200\n",
      "50000/50000 [==============================] - 4s 90us/sample - loss: 0.0029 - accuracy: 0.9999 - val_loss: 0.0868 - val_accuracy: 0.9786\n",
      "Epoch 91/200\n",
      "50000/50000 [==============================] - 5s 91us/sample - loss: 0.0028 - accuracy: 1.0000 - val_loss: 0.0870 - val_accuracy: 0.9783\n",
      "Epoch 92/200\n",
      "50000/50000 [==============================] - 5s 90us/sample - loss: 0.0028 - accuracy: 1.0000 - val_loss: 0.0871 - val_accuracy: 0.9786\n",
      "Epoch 93/200\n",
      "50000/50000 [==============================] - 5s 93us/sample - loss: 0.0027 - accuracy: 1.0000 - val_loss: 0.0875 - val_accuracy: 0.9789\n",
      "Epoch 94/200\n",
      "50000/50000 [==============================] - 4s 89us/sample - loss: 0.0026 - accuracy: 1.0000 - val_loss: 0.0876 - val_accuracy: 0.9777\n",
      "Epoch 95/200\n",
      "50000/50000 [==============================] - 5s 91us/sample - loss: 0.0026 - accuracy: 1.0000 - val_loss: 0.0872 - val_accuracy: 0.9786\n",
      "Epoch 96/200\n",
      "50000/50000 [==============================] - 5s 91us/sample - loss: 0.0025 - accuracy: 1.0000 - val_loss: 0.0871 - val_accuracy: 0.9788\n",
      "Epoch 97/200\n",
      "50000/50000 [==============================] - 5s 99us/sample - loss: 0.0025 - accuracy: 1.0000 - val_loss: 0.0877 - val_accuracy: 0.9782\n"
     ]
    }
   ],
   "source": [
    "# Training - checkpoint at best validation error and early stopping\n",
    "from tensorflow.keras.callbacks import ModelCheckpoint, EarlyStopping\n",
    "\n",
    "n_epochs = 200\n",
    "checkpoint_cb = ModelCheckpoint('c10exercise.h5', save_best_only=True)\n",
    "early_cb = EarlyStopping(patience=50, restore_best_weights=True)\n",
    "\n",
    "history = model.fit(X_train, y_train, epochs=n_epochs, batch_size=32,\n",
    "                   validation_data=(X_valid, y_valid),\n",
    "                   callbacks=[checkpoint_cb, early_cb])"
   ]
  },
  {
   "cell_type": "code",
   "execution_count": 10,
   "metadata": {},
   "outputs": [
    {
     "data": {
      "image/png": "[encoded data removed]",
      "text/plain": [
       "<Figure size 576x360 with 1 Axes>"
      ]
     },
     "metadata": {
      "needs_background": "light"
     },
     "output_type": "display_data"
    }
   ],
   "source": [
    "# Training plot\n",
    "import pandas as pd\n",
    "import matplotlib.pyplot as plt\n",
    "%matplotlib inline\n",
    "\n",
    "pd.DataFrame(history.history).plot(figsize=(8, 5))\n",
    "plt.grid(True)\n",
    "plt.gca().set_ylim(0, 1)\n",
    "plt.show()"
   ]
  },
  {
   "cell_type": "code",
   "execution_count": 11,
   "metadata": {},
   "outputs": [],
   "source": [
    "y_pred = model.predict_classes(X_test)"
   ]
  },
  {
   "cell_type": "code",
   "execution_count": 12,
   "metadata": {},
   "outputs": [
    {
     "data": {
      "text/plain": [
       "0.9773924267908022"
      ]
     },
     "execution_count": 12,
     "metadata": {},
     "output_type": "execute_result"
    }
   ],
   "source": [
    "from sklearn.metrics import precision_score\n",
    "\n",
    "precision_score(y_pred, y_test, average='macro')"
   ]
  },
  {
   "cell_type": "code",
   "execution_count": null,
   "metadata": {},
   "outputs": [],
   "source": []
  }
 ],
 "metadata": {
  "kernelspec": {
   "display_name": "Python 3",
   "language": "python",
   "name": "python3"
  },
  "language_info": {
   "codemirror_mode": {
    "name": "ipython",
    "version": 3
   },
   "file_extension": ".py",
   "mimetype": "text/x-python",
   "name": "python",
   "nbconvert_exporter": "python",
   "pygments_lexer": "ipython3",
   "version": "3.7.3"
  }
 },
 "nbformat": 4,
 "nbformat_minor": 2
}
